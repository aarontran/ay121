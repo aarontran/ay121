{
 "metadata": {
  "name": ""
 },
 "nbformat": 3,
 "nbformat_minor": 0,
 "worksheets": [
  {
   "cells": [
    {
     "cell_type": "markdown",
     "metadata": {},
     "source": [
      "Ay121 Lab 2 Week 1 data plotting, analysis\n",
      "==========================================\n",
      "\n",
      "Aaron Tran<br/>\n",
      "Spring 2014\n",
      "\n",
      "Some links and things for reference (getting familiar with notebook interface) follow:\n",
      "\n",
      "* [iPython docs](http://ipython.org/ipython-doc/stable/interactive/notebook.html)\n",
      "* [Markdown syntax](http://daringfireball.net/projects/markdown/syntax)\n",
      "\n",
      "\n",
      "* `Ctrl-m h` -- show all shortcuts\n",
      "* `Ctrl-m s` -- save\n",
      "* `Shft-enter` -- run cell\n",
      "* `Ctrl-enter` -- run cell in-place\n",
      "\n",
      "\n",
      "* `Ctrl-m {1-6}` -- headings 1-6\n",
      "* `Ctrl-m m` -- markdown\n",
      "* `Ctrl-m y` -- code\n",
      "\n",
      "\n",
      "* `Ctrl-m c/x/v` -- copy/cut/paste cells\n",
      "* `Ctrl-m d` -- delete cell\n",
      "* `Ctrl-m -` -- split cell"
     ]
    },
    {
     "cell_type": "heading",
     "level": 2,
     "metadata": {},
     "source": [
      "Setup - import data, define and test homebrewed DFT"
     ]
    },
    {
     "cell_type": "markdown",
     "metadata": {},
     "source": [
      "Import .npz file as a dict.\n",
      "Keys are 'arr_0', 'arr_1', ..., 'arr_5', corresponding to $f_{\\mathrm{signal}} = \\{0.1, 0.4, 0.7, 0.9, 1, 3\\} \\times f_{\\mathrm{samp}}$.\n",
      "We collected 1024 samples at $f_{\\mathrm{samp}} = 8.8 \\mathrm{MHz}$"
     ]
    },
    {
     "cell_type": "code",
     "collapsed": false,
     "input": [
      "# Using Mac OSX backend -- inline subplots look terrible\n",
      "%pylab --no-import-all\n",
      "\n",
      "data = np.load('../data-week1/lab_digital_sampling.npz')\n",
      "\n",
      "fsamp = 10e6\n",
      "nsamp = 1024\n",
      "times = np.arange(nsamp)/fsamp * 1e6 # Microseconds\n",
      "freqs = np.linspace(-fsamp/2., fsamp/2 * ( 1 - 2./nsamp), 1024)"
     ],
     "language": "python",
     "metadata": {},
     "outputs": [
      {
       "output_type": "stream",
       "stream": "stdout",
       "text": [
        "Using matplotlib backend: MacOSX\n",
        "Populating the interactive namespace from numpy and matplotlib\n"
       ]
      }
     ],
     "prompt_number": 52
    },
    {
     "cell_type": "markdown",
     "metadata": {},
     "source": [
      "Define our \"homebrewed\" discrete Fourier transform"
     ]
    },
    {
     "cell_type": "code",
     "collapsed": false,
     "input": [
      "# Takes a 1-D ndarray, and nu\n",
      "# Assumes n is even (!)\n",
      "# Returns transformed signal, may be complex; square to get power\n",
      "def homebrewed_DFT_value(a, nu, fsample):\n",
      "    n = np.size(a)\n",
      "    times = (np.arange(n) - n/2.) / fsample\n",
      "    return np.sum(a * np.exp(1j*(2*np.pi*nu)*times))\n",
      "\n",
      "def hb_dft_vec(a, nu, fsamp):\n",
      "    return [homebrewed_DFT_value(a,x,fsamp) for x in nu]"
     ],
     "language": "python",
     "metadata": {},
     "outputs": [],
     "prompt_number": 53
    },
    {
     "cell_type": "markdown",
     "metadata": {},
     "source": [
      "Test - generate \"homebrewed\" discrete Fourier spectra, compare to numpy.fft.fft"
     ]
    },
    {
     "cell_type": "code",
     "collapsed": false,
     "input": [
      "freqspectra = hb_dft_vec(data['arr_1'], freqs, fsamp)\n",
      "plt.plot(freqs,np.abs(freqspectra),'-ko')\n",
      "plt.yscale('log')\n",
      "plt.show()"
     ],
     "language": "python",
     "metadata": {},
     "outputs": [],
     "prompt_number": 3
    },
    {
     "cell_type": "code",
     "collapsed": false,
     "input": [
      "freqspectra = np.fft.fft(data['arr_1'])\n",
      "npfreqs = np.fft.fftfreq(1024, 1./fsamp)\n",
      "plt.plot(npfreqs,np.abs(freqspectra),'r*')\n",
      "plt.yscale('log')\n",
      "plt.show()"
     ],
     "language": "python",
     "metadata": {},
     "outputs": [],
     "prompt_number": 4
    },
    {
     "cell_type": "heading",
     "level": 2,
     "metadata": {},
     "source": [
      "Plot all signals and power spectra (geez this is ugly)"
     ]
    },
    {
     "cell_type": "code",
     "collapsed": false,
     "input": [
      "fig = plt.figure(figsize=(6, 8))  # Full page figure\n",
      "plt.subplots_adjust(left = 0.14, right = 0.96, bottom = 0.08, top = 0.97,\n",
      "    wspace = 0.45, hspace = 0.2)\n",
      "\n",
      "subplot_labels = ['a', 'b', 'c', 'd', 'e', 'f']\n",
      "\n",
      "for i in xrange(6):\n",
      "    sig = data['arr_' + str(i)]\n",
      "    freq_spectrum = hb_dft_vec(sig, freqs, fsamp)\n",
      "    print 'Frequency peak for arr_'+str(i)+' at ' + str(freqs[np.argmax(freq_spectrum)])\n",
      "    \n",
      "    # Signal / time-domain plot\n",
      "    ax1 = fig.add_subplot(6,2, 2*i+1)  # The woes of 1-based indexing :P\n",
      "    plt.plot(times, sig, '-ko')\n",
      "    plt.xlim([0,2])\n",
      "    plt.ylim([-1, 1])\n",
      "    plt.yticks([-1, -0.5, 0, 0.5, 1])\n",
      "    # Subplot letter labels\n",
      "    if i != 1:\n",
      "        plt.text(0.065, 0.83, subplot_labels[i], weight='bold', transform=ax1.transAxes)\n",
      "    else:\n",
      "        plt.text(0.115, 0.83, subplot_labels[i], weight='bold', transform=ax1.transAxes)\n",
      "    \n",
      "    # Power spectrum / freq-domain plot\n",
      "    ax2 = fig.add_subplot(6,2, 2*i+2)\n",
      "    plt.plot(freqs/(1e6), np.abs(freq_spectrum)**2,'-k')\n",
      "    plt.xlim([-0.1, 5])\n",
      "    plt.xticks(range(0,6))\n",
      "    plt.yscale('log')\n",
      "    plt.ylim([1e-5, 1e5])\n",
      "    plt.yticks([1e-4, 1e-2, 1e0, 1e2, 1e4])\n",
      "    plt.text(0.065, 0.83, subplot_labels[i], weight='bold', transform=ax2.transAxes)\n",
      "    \n",
      "    # Remove x tick labels if not on bottom row\n",
      "    if i != 5:\n",
      "        ax1.set_xticklabels([])\n",
      "        ax2.set_xticklabels([])\n",
      "\n",
      "# x axis labels\n",
      "plt.subplot(6,2,11)\n",
      "plt.xlabel(u'Time (\\u00b5s)', fontsize=14)\n",
      "plt.subplot(6,2,12)\n",
      "plt.xlabel(r'Frequency (MHz)', fontsize=14)\n",
      "\n",
      "# y axis labels\n",
      "ylabel1 = r'Voltage ($\\mathrm{V}$)'\n",
      "ylabel2 = r'Power spectral density ($\\mathrm{V}^2 \\mathrm{Hz}^{-1}$)'\n",
      "fig.text(0.038, 0.5, ylabel1, ha='center', va='center', rotation='vertical', fontsize=14)\n",
      "fig.text(0.525, 0.5, ylabel2, ha='center', va='center', rotation='vertical', fontsize=14)\n",
      "\n",
      "# f_sig labels\n",
      "# This took longer than it should have\n",
      "# Absolute text placements look nice on generated plots, but are misplaced on saved output\n",
      "# I list the idealized input frequencies, do not correspond to oscilloscope measurements\n",
      "# But, they are close enough that it should not matter.\n",
      "plt.figtext(0.78, 0.862, r'$f_{\\mathrm{sig}} = 0.88 \\,\\mathrm{MHz}$', fontsize=11)\n",
      "plt.figtext(0.78, 0.710, r'$f_{\\mathrm{sig}} = 3.52 \\,\\mathrm{MHz}$', fontsize=11)\n",
      "plt.figtext(0.78, 0.555, r'$f_{\\mathrm{sig}} = 6.16 \\,\\mathrm{MHz}$', fontsize=11)\n",
      "plt.figtext(0.78, 0.485, r'$f_{\\mathrm{sig}} = 7.92 \\,\\mathrm{MHz}$', fontsize=11)\n",
      "plt.figtext(0.79, 0.335, r'$f_{\\mathrm{sig}} = 8.8 \\,\\mathrm{MHz}$', fontsize=11)\n",
      "plt.figtext(0.78, 0.100, r'$f_{\\mathrm{sig}} = 26.4 \\,\\mathrm{MHz}$', fontsize=11)\n",
      "\n",
      "plt.savefig('nyquist_plots.pdf')\n",
      "#plt.show()\n",
      "plt.close()\n",
      "!open nyquist_plots.pdf"
     ],
     "language": "python",
     "metadata": {},
     "outputs": [
      {
       "output_type": "stream",
       "stream": "stdout",
       "text": [
        "Frequency peak for arr_0 at 869140.625\n",
        "Frequency peak for arr_1 at 3515625.0"
       ]
      },
      {
       "output_type": "stream",
       "stream": "stdout",
       "text": [
        "\n",
        "Frequency peak for arr_2 at 3828125.0"
       ]
      },
      {
       "output_type": "stream",
       "stream": "stdout",
       "text": [
        "\n",
        "Frequency peak for arr_3 at 2089843.75"
       ]
      },
      {
       "output_type": "stream",
       "stream": "stdout",
       "text": [
        "\n",
        "Frequency peak for arr_4 at -1210937.5"
       ]
      },
      {
       "output_type": "stream",
       "stream": "stdout",
       "text": [
        "\n",
        "Frequency peak for arr_5 at 3613281.25"
       ]
      },
      {
       "output_type": "stream",
       "stream": "stdout",
       "text": [
        "\n"
       ]
      }
     ],
     "prompt_number": 79
    },
    {
     "cell_type": "heading",
     "level": 2,
     "metadata": {},
     "source": [
      "Additional items"
     ]
    },
    {
     "cell_type": "markdown",
     "metadata": {},
     "source": [
      "1. locating aliased frequencies\n",
      "2. decreased spectral leakage in Figure 1d.\n",
      "3. uncertainty in input frequencies (from oscilloscope measurements)"
     ]
    },
    {
     "cell_type": "markdown",
     "metadata": {},
     "source": [
      "Where should the aliased frequencies appear?\n",
      "\n",
      "Ah, I figured it out -- it looks like, despite our best intentions, Pulsar (the ADC's host computer) was insolently sampling at 10 MHz (or we made a mistake and forgot to command it to sample correctly).  However, we were feeding in signals at fractions of 8.8 MHz, which we had verified using the oscilloscope.  So now this makes sense..."
     ]
    },
    {
     "cell_type": "code",
     "collapsed": false,
     "input": [
      "fsamp_wrong = 8.8e6\n",
      "T_scope = np.array([1.136, 0.284, 0.162, 0.126, 0.114, 0.038]) * 1e-6  # Microseconds\n",
      "freqs_scope = 1./T_scope  # MHz\n",
      "\n",
      "print 'Scope-measured input frequencies: ' + str(freqs_scope / 1e6)  # Output in MHz\n",
      "print 'As fractions of fsamp_wrong: ' + str(freqs_scope / fsamp_wrong)\n",
      "print ''\n",
      "print 'The 0.1 fsamp signal should be at ' + str (0.1*fsamp_wrong)\n",
      "print 'The 0.4 fsamp signal should be at ' + str (0.4*fsamp_wrong)\n",
      "print 'The 0.7 fsamp signal should be at ' + str( fsamp - 0.7*fsamp_wrong )\n",
      "print 'The 0.9 fsamp signal should be at ' + str( fsamp - 0.9*fsamp_wrong )\n",
      "print 'The 1 fsamp signal should be at ' + str( fsamp - 1*fsamp_wrong )\n",
      "print 'The 3 fsamp signal should be at ' + str(3*fsamp - 3*fsamp_wrong)"
     ],
     "language": "python",
     "metadata": {},
     "outputs": [
      {
       "output_type": "stream",
       "stream": "stdout",
       "text": [
        "Scope-measured input frequencies: [  0.88028169   3.52112676   6.17283951   7.93650794   8.77192982\n",
        "  26.31578947]\n",
        "As fractions of fsamp_wrong: [ 0.10003201  0.40012804  0.70145903  0.9018759   0.99681021  2.99043062]\n",
        "\n",
        "The 0.1 fsamp signal should be at 880000.0\n",
        "The 0.4 fsamp signal should be at 3520000.0\n",
        "The 0.7 fsamp signal should be at 3840000.0\n",
        "The 0.9 fsamp signal should be at 2080000.0\n",
        "The 1 fsamp signal should be at 1200000.0\n",
        "The 3 fsamp signal should be at 3600000.0\n"
       ]
      }
     ],
     "prompt_number": 130
    },
    {
     "cell_type": "markdown",
     "metadata": {},
     "source": [
      "Why does the spectrum for Figure 1d. have decreased spectral leakage?  I hypothesize that, by some sort of sheer luck, we landed right at or very near one of the DFT's frequency bins.  Let's check this.\n",
      "\n",
      "There is some uncertainty in the exact frequency we are feeding in, and that uncertainty is comparable to a bin size.  So, I don't think we can predict where we'll land on a bin, it just happens by chance.\n",
      "\n",
      "My scripting printout here is horrific."
     ]
    },
    {
     "cell_type": "code",
     "collapsed": false,
     "input": [
      "freq_res = fsamp/nsamp\n",
      "print 'Frequency resolution (bin size): ' + str(freq_res)\n",
      "print ''\n",
      "print 'Fig 1c, theoretical expectation of # of bins: ' + str((fsamp-6.16e6)/freq_res)\n",
      "print 'Fig 1c, oscope expectation of # of bins: ' + str((fsamp-6.17284e6)/freq_res)\n",
      "print 'Fig 1c, spectrum measurement of # of bins: ' + str(3828125.0/freq_res)\n",
      "print ''\n",
      "print 'Fig 1d, theoretical expectation of # of bins: ' + str((fsamp-7.92e6)/freq_res)\n",
      "print 'Fig 1d, oscope expectation of # of bins: ' + str((fsamp-7.9365e6)/freq_res)\n",
      "print 'Fig 1d, spectrum measurement of # of bins: ' + str(2089843.75/freq_res)\n",
      "print ''\n",
      "print ('Rough freq. uncertainty for Fig 1d, oscope measurement (Hz): '\n",
      "    + str(abs(1/(126.7e-9) - 1/(125.5e-9))/2.) )  # 0.6 nanosec\n",
      "print ('Rough freq. uncertainty for Fig 1d, oscope measurement (bins): '\n",
      "    + str((abs(1/(126.7e-9) - 1/(125.5e-9))/2.)/freq_res) )"
     ],
     "language": "python",
     "metadata": {},
     "outputs": [
      {
       "output_type": "stream",
       "stream": "stdout",
       "text": [
        "Frequency resolution (bin size): 9765.625\n",
        "\n",
        "Fig 1c, theoretical expectation of # of bins: 393.216\n",
        "Fig 1c, oscope expectation of # of bins: 391.901184\n",
        "Fig 1c, spectrum measurement of # of bins: 392.0\n",
        "\n",
        "Fig 1d, theoretical expectation of # of bins: 212.992\n",
        "Fig 1d, oscope expectation of # of bins: 211.3024\n",
        "Fig 1d, spectrum measurement of # of bins: 214.0\n",
        "\n",
        "Rough freq. uncertainty for Fig 1d, oscope measurement (Hz): 37733.8318392\n",
        "Rough freq. uncertainty for Fig 1d, oscope measurement (bins): 3.86394438033\n"
       ]
      }
     ],
     "prompt_number": 128
    },
    {
     "cell_type": "markdown",
     "metadata": {},
     "source": [
      "Estimates of uncertainties in input frequency; values taken from 'notes-week1.txt'"
     ]
    },
    {
     "cell_type": "code",
     "collapsed": false,
     "input": [
      "T_scope = np.array([1.136, 0.284, 0.1625, 0.1261, 0.1136, 0.0379]) * 1e-6  # Microseconds\n",
      "T_scope_uncerts = np.array([4., 2., 2., 0.6, 0.4, 0.4]) * 1e-9  # Nanoseconds\n",
      "freqs_scope = 1./T_scope  # MHz\n",
      "freqs_scope_uncerts = freqs_scope * T_scope_uncerts / T_scope\n",
      "print 'Abs. uncertainties in freqs (MHz): ' + str(freqs_scope_uncerts/1e6)\n",
      "print 'Rel. uncertainties in freqs (-): ' + str(T_scope_uncerts / T_scope)"
     ],
     "language": "python",
     "metadata": {},
     "outputs": [
      {
       "output_type": "stream",
       "stream": "stdout",
       "text": [
        "Abs. uncertainties in freqs: [ 0.00309958  0.02479667  0.07573964  0.03773298  0.03099583  0.27847202]\n",
        "Rel. uncertainties in freqs: [ 0.00352113  0.00704225  0.01230769  0.00475813  0.00352113  0.01055409]\n"
       ]
      }
     ],
     "prompt_number": 126
    }
   ],
   "metadata": {}
  }
 ]
}