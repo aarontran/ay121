{
 "metadata": {
  "name": ""
 },
 "nbformat": 3,
 "nbformat_minor": 0,
 "worksheets": [
  {
   "cells": [
    {
     "cell_type": "markdown",
     "metadata": {},
     "source": [
      "Ay121 Lab 2 Week 1 data plotting, analysis\n",
      "==========================================\n",
      "\n",
      "Aaron Tran<br/>\n",
      "Spring 2014\n",
      "\n",
      "Some links and things for reference (getting familiar with notebook interface) follow:\n",
      "\n",
      "* [iPython docs](http://ipython.org/ipython-doc/stable/interactive/notebook.html)\n",
      "* [Markdown syntax](http://daringfireball.net/projects/markdown/syntax#link)\n",
      "\n",
      "\n",
      "* `Ctrl-m h` -- show all shortcuts\n",
      "* `Ctrl-m s` -- save\n",
      "* `Shft-enter` -- run cell\n",
      "* `Ctrl-enter` -- run cell in-place\n",
      "\n",
      "\n",
      "* `Ctrl-m {1-6}` -- headings 1-6\n",
      "* `Ctrl-m m` -- markdown\n",
      "* `Ctrl-m y` -- code\n",
      "\n",
      "\n",
      "* `Ctrl-m c/x/v` -- copy/cut/paste cells\n",
      "* `Ctrl-m d` -- delete cell\n",
      "* `Ctrl-m -` -- split cell"
     ]
    },
    {
     "cell_type": "heading",
     "level": 2,
     "metadata": {},
     "source": [
      "Setup - import data, define and test homebrewed DFT"
     ]
    },
    {
     "cell_type": "markdown",
     "metadata": {},
     "source": [
      "Import .npz file as a dict.\n",
      "Keys are 'arr_0', 'arr_1', ..., 'arr_5', corresponding to $f_{\\mathrm{signal}} = \\{0.1, 0.4, 0.7, 0.9, 1, 3\\} \\times f_{\\mathrm{samp}}$.\n",
      "We collected 1024 samples at $f_{\\mathrm{samp}} = 8.8 \\mathrm{MHz}$"
     ]
    },
    {
     "cell_type": "code",
     "collapsed": false,
     "input": [
      "# Using Mac OSX backend -- inline subplots look terrible\n",
      "%pylab --no-import-all\n",
      "\n",
      "data = np.load('../data-week1/lab_digital_sampling.npz')\n",
      "\n",
      "fsamp = 8.8e6\n",
      "nsamp = 1024\n",
      "times = np.arange(nsamp)/fsamp * 1e6 # Microseconds\n",
      "freqs = np.linspace(-fsamp/2., fsamp/2 * ( 1 - 2./nsamp), 1024)"
     ],
     "language": "python",
     "metadata": {},
     "outputs": [
      {
       "output_type": "stream",
       "stream": "stdout",
       "text": [
        "Using matplotlib backend: MacOSX\n",
        "Populating the interactive namespace from numpy and matplotlib\n"
       ]
      }
     ],
     "prompt_number": 1
    },
    {
     "cell_type": "markdown",
     "metadata": {},
     "source": [
      "Define our \"homebrewed\" discrete Fourier transform"
     ]
    },
    {
     "cell_type": "code",
     "collapsed": false,
     "input": [
      "# Takes a 1-D ndarray, and nu\n",
      "# Assumes n is even (!)\n",
      "# Returns transformed signal, may be complex; square to get power\n",
      "def homebrewed_DFT_value(a, nu, fsample):\n",
      "    n = np.size(a)\n",
      "    times = (np.arange(n) - n/2.) / fsample\n",
      "    return np.sum(a * np.exp(1j*(2*np.pi*nu)*times))\n",
      "\n",
      "def hb_dft_vec(a, nu, fsamp):\n",
      "    return [homebrewed_DFT_value(a,x,fsamp) for x in nu]"
     ],
     "language": "python",
     "metadata": {},
     "outputs": [],
     "prompt_number": 2
    },
    {
     "cell_type": "markdown",
     "metadata": {},
     "source": [
      "Test - generate \"homebrewed\" discrete Fourier spectra, compare to numpy.fft.fft"
     ]
    },
    {
     "cell_type": "code",
     "collapsed": false,
     "input": [
      "freqspectra = hb_dft_vec(data['arr_1'], freqs, fsamp)\n",
      "plt.plot(freqs,np.abs(freqspectra),'-ko')\n",
      "plt.yscale('log')\n",
      "plt.show()"
     ],
     "language": "python",
     "metadata": {},
     "outputs": [],
     "prompt_number": 3
    },
    {
     "cell_type": "code",
     "collapsed": false,
     "input": [
      "freqspectra = np.fft.fft(data['arr_1'])\n",
      "npfreqs = np.fft.fftfreq(1024, 1./fsamp)\n",
      "plt.plot(npfreqs,np.abs(freqspectra),'r*')\n",
      "plt.yscale('log')\n",
      "plt.show()"
     ],
     "language": "python",
     "metadata": {},
     "outputs": [],
     "prompt_number": 4
    },
    {
     "cell_type": "heading",
     "level": 2,
     "metadata": {},
     "source": [
      "Plot all signals and power spectra"
     ]
    },
    {
     "cell_type": "code",
     "collapsed": false,
     "input": [
      "fig = plt.figure(figsize=(6.3,8.8))  # Full page figure\n",
      "\n",
      "for i in xrange(6):\n",
      "    sig = data['arr_' + str(i)]\n",
      "    freq_spectrum = hb_dft_vec(sig, freqs, fsamp)\n",
      "    print 'Frequency peak for arr_'+str(i)+' at ' + str(freqs[np.argmax(freq_spectrum)])\n",
      "    \n",
      "    # Signal / time-domain plot\n",
      "    ax1 = fig.add_subplot(6,2, 2*i+1)  # The woes of 1-based indexing :P\n",
      "    plt.plot(times, sig, '-ko')\n",
      "    \n",
      "    plt.xlim([0,2])\n",
      "    plt.ylim([-0.8,0.8])\n",
      "    plt.yticks([-0.8, -0.4, 0, 0.4, 0.8])\n",
      "    \n",
      "    # Power spectrum / freq-domain plot\n",
      "    ax2 = fig.add_subplot(6,2, 2*i+2)\n",
      "    plt.plot(freqs/(1e6), np.abs(freq_spectrum)**2,'-k')\n",
      "    \n",
      "    plt.xlim([-0.1, 4.4])\n",
      "    plt.xticks(range(0,5))\n",
      "    plt.yscale('log')\n",
      "    ax2.yaxis.set_major_locator(plt.LogLocator(numticks=7))\n",
      "    \n",
      "    # Remove x tick labels everywhere but bottom row\n",
      "    if i != 5:\n",
      "        ax1.set_xticklabels([])\n",
      "        ax2.set_xticklabels([])\n",
      "\n",
      "# x axis labels\n",
      "plt.subplot(6,2,11)\n",
      "plt.xlabel(u'Time (\\u00b5s)', fontsize=14)\n",
      "plt.subplot(6,2,12)\n",
      "plt.xlabel(r'Frequency (MHz)', fontsize=14)\n",
      "\n",
      "# y axis labels\n",
      "plt.subplots_adjust(wspace=0.45)\n",
      "ylabel1 = r'Voltage ($\\mathrm{V}$)'\n",
      "ylabel2 = r'Power spectral density ($\\mathrm{V}^2 \\mathrm{Hz}^{-1}$)'\n",
      "fig.text(0.05, 0.5, ylabel1, ha='center', va='center', rotation='vertical', fontsize=14)\n",
      "fig.text(0.49, 0.5, ylabel2, ha='center', va='center', rotation='vertical', fontsize=14)\n",
      "\n",
      "# f_sig labels\n",
      "# this took longer than it should have\n",
      "# Absolute text placements look nice on generated plots, but then misplaced on saved output!\n",
      "plt.figtext(0.71, 0.874, r'$f_{\\mathrm{signal}} = 0.1 f_{\\mathrm{samp}}$')\n",
      "plt.figtext(0.71, 0.662, r'$f_{\\mathrm{signal}} = 0.4 f_{\\mathrm{samp}}$')\n",
      "plt.figtext(0.717, 0.526, r'$f_{\\mathrm{signal}} = 0.7 f_{\\mathrm{samp}}$')\n",
      "plt.figtext(0.722, 0.464, r'$f_{\\mathrm{signal}} = 0.9 f_{\\mathrm{samp}}$')\n",
      "plt.figtext(0.746, 0.328, r'$f_{\\mathrm{signal}} = f_{\\mathrm{samp}}$')\n",
      "plt.figtext(0.6, 0.188, r'$f_{\\mathrm{signal}} = 3 f_{\\mathrm{samp}}$')\n",
      "\n",
      "\"\"\"\n",
      "plt.figtext(0.71, 0.861, r'$f_{\\mathrm{signal}} = 0.1 f_{\\mathrm{samp}}$')\n",
      "plt.figtext(0.71, 0.651, r'$f_{\\mathrm{signal}} = 0.4 f_{\\mathrm{samp}}$')\n",
      "plt.figtext(0.717, 0.512, r'$f_{\\mathrm{signal}} = 0.7 f_{\\mathrm{samp}}$')\n",
      "plt.figtext(0.722, 0.452, r'$f_{\\mathrm{signal}} = 0.9 f_{\\mathrm{samp}}$')\n",
      "plt.figtext(0.75, 0.315, r'$f_{\\mathrm{signal}} = f_{\\mathrm{samp}}$')\n",
      "plt.figtext(0.6, 0.175, r'$f_{\\mathrm{signal}} = 3 f_{\\mathrm{samp}}$')\n",
      "\"\"\"\n",
      "\n",
      "plt.show()\n",
      "# plt.savefig('nyquist_plots.pdf')"
     ],
     "language": "python",
     "metadata": {},
     "outputs": [
      {
       "output_type": "stream",
       "stream": "stdout",
       "text": [
        "Frequency peak for arr_0 at 764843.75\n",
        "Frequency peak for arr_1 at 3093750.0"
       ]
      },
      {
       "output_type": "stream",
       "stream": "stdout",
       "text": [
        "\n",
        "Frequency peak for arr_2 at 3368750.0"
       ]
      },
      {
       "output_type": "stream",
       "stream": "stdout",
       "text": [
        "\n",
        "Frequency peak for arr_3 at 1839062.5"
       ]
      },
      {
       "output_type": "stream",
       "stream": "stdout",
       "text": [
        "\n",
        "Frequency peak for arr_4 at -1065625.0"
       ]
      },
      {
       "output_type": "stream",
       "stream": "stdout",
       "text": [
        "\n",
        "Frequency peak for arr_5 at 3179687.5"
       ]
      },
      {
       "output_type": "stream",
       "stream": "stdout",
       "text": [
        "\n"
       ]
      }
     ],
     "prompt_number": 68
    },
    {
     "cell_type": "code",
     "collapsed": false,
     "input": [],
     "language": "python",
     "metadata": {},
     "outputs": [],
     "prompt_number": 9
    }
   ],
   "metadata": {}
  }
 ]
}