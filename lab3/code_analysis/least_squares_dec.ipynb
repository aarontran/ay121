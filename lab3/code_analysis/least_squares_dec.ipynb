{
 "metadata": {
  "name": ""
 },
 "nbformat": 3,
 "nbformat_minor": 0,
 "worksheets": [
  {
   "cells": [
    {
     "cell_type": "markdown",
     "metadata": {},
     "source": [
      "Point source fitting for dec/baseline\n",
      "=====================================\n",
      "\n",
      "Aaron Tran, Astro 121, Spring 2014\n",
      "\n",
      "First, obtain cleaned data using data_reduction.ipynb.  Then use this notebook to perform least squares fits of point sources."
     ]
    },
    {
     "cell_type": "code",
     "collapsed": false,
     "input": [
      "%reset"
     ],
     "language": "python",
     "metadata": {},
     "outputs": [
      {
       "name": "stdout",
       "output_type": "stream",
       "stream": "stdout",
       "text": [
        "Once deleted, variables cannot be recovered. Proceed (y/[n])? y\n"
       ]
      }
     ],
     "prompt_number": 2
    },
    {
     "cell_type": "code",
     "collapsed": false,
     "input": [
      "%pylab --no-import-all\n",
      "%matplotlib inline\n",
      "# ('gtk', 'inline', 'osx', 'qt', 'qt4', 'tk', 'wx')\n",
      "\n",
      "import scipy as sp\n",
      "import scipy.integrate\n",
      "\n",
      "import ephem\n",
      "import catalog  # Copied in for convenience\n",
      "\n",
      "import glob\n",
      "from matplotlib import rcParams\n",
      "rcParams['axes.labelsize'] = 9\n",
      "rcParams['xtick.labelsize'] = 9\n",
      "rcParams['ytick.labelsize'] = 9\n",
      "rcParams['legend.fontsize'] = 9\n",
      "rcParams['font.family'] = 'serif'\n",
      "rcParams['font.serif'] = ['Computer Modern Roman']\n",
      "rcParams['text.usetex'] = True\n",
      "# From: http://damon-is-a-geek.com/publication-ready-the-first-time-beautiful-reproducible-plots-with-matplotlib.html\n",
      "\n",
      "def fplot(xlab, ylab, axargs='tight', scales=('linear','linear')):\n",
      "    \"\"\"Convenience method to set x/y labels, axis limits in one cmd\n",
      "    xlab: xlabel string\n",
      "    ylab: ylabel string\n",
      "    axargs: limits [xmin, xmax, ymin, ymax] or other string arg\n",
      "    scales: [xscale, yscale] (see plt.xscale(...))\n",
      "    \"\"\"\n",
      "    plt.xscale(scales[0])\n",
      "    plt.yscale(scales[1])\n",
      "    plt.xlabel(xlab)\n",
      "    plt.ylabel(ylab)\n",
      "    plt.axis(axargs)"
     ],
     "language": "python",
     "metadata": {},
     "outputs": [
      {
       "output_type": "stream",
       "stream": "stdout",
       "text": [
        "Using matplotlib backend: MacOSX\n",
        "Populating the interactive namespace from numpy and matplotlib\n"
       ]
      }
     ],
     "prompt_number": 3
    },
    {
     "cell_type": "markdown",
     "metadata": {},
     "source": [
      "Initialize Berkeley observer and a few utility functions.  Set obs.date before any calculations.  Glob cleaned data filenames and make id_dict\n",
      "\n",
      "Stolen from: `code_interf/ay121_ephem.py`"
     ]
    },
    {
     "cell_type": "code",
     "collapsed": false,
     "input": [
      "from coord_conv import *\n",
      "\n",
      "def rad2deg(pt):\n",
      "    return pt * 180./np.pi\n",
      "def deg2rad(pt):\n",
      "    return pt * np.pi/180\n",
      "\n",
      "# Same as ay121_ephem.py\n",
      "obs = ephem.Observer()\n",
      "obs.lat, obs.lon = deg2rad(np.array([37.8702, -122.2544]))\n",
      "obs.pressure = 0  # No refraction correction\n",
      "\n",
      "fnames = dict(zip(['M17', 'Orion', 'Virgo A'],\n",
      "                  ['../data_clean/M17_clean.npz',\n",
      "                   '../data_clean/orion_clean.npz',\n",
      "                   '../data_clean/virgoA_clean.npz']))\n",
      "print fnames"
     ],
     "language": "python",
     "metadata": {},
     "outputs": [
      {
       "output_type": "stream",
       "stream": "stdout",
       "text": [
        "{'Orion': '../data_clean/orion_clean.npz', 'Virgo A': '../data_clean/virgoA_clean.npz', 'M17': '../data_clean/M17_clean.npz'}\n"
       ]
      }
     ],
     "prompt_number": 4
    },
    {
     "cell_type": "markdown",
     "metadata": {},
     "source": [
      "Least squares fitting code\n",
      "--------------------------\n",
      "\n",
      "Adapted from my code for class fitting exercise (`lsq_exercise/`)\n",
      "\n",
      "Next goal -- allow functions passed in as arguments (like Mathematica) for arbitrary least squares, and iterative non-linear least squares (i.e., construct design matrix given functions as arguments).  This would be quite useful outside of astro lab as well..."
     ]
    },
    {
     "cell_type": "code",
     "collapsed": false,
     "input": [
      "import least_squares as lsq\n",
      "\n",
      "def sin_cos_iter_lsq(x, v, init_k, init_range, ref=0.5, convf=1e-7, searchpts=1000):\n",
      "    \"\"\"Iterate brute force least squares until convergence\n",
      "    \n",
      "    Input:\n",
      "        x, v (np.array): data to fit to sin/cos model\n",
      "        init_k (float): initial value of k\n",
      "        init_range (float): range to search around k (k +/- init_range)\n",
      "    kwargs:\n",
      "        ref (float): factor by which to refine search domain, each step\n",
      "        convf (float): convergence threshold factor\n",
      "                       final k must change by less than convf * init_k\n",
      "        searchpts (float): number of pts to sample in search domain\n",
      "    Output:\n",
      "        k_fit, a_best, s2_best, avars_best\n",
      "    \"\"\"\n",
      "    \n",
      "    k_fit = init_k\n",
      "    k_fit_prev = 0\n",
      "    r = 1  # Refinement factor, continuously updated\n",
      "    \n",
      "    while abs(k_fit - k_fit_prev) > init_k * convf:\n",
      "        k_vals = k_fit + np.linspace(-init_range*r, init_range*r, searchpts)\n",
      "        k_fit_prev = k_fit\n",
      "        \n",
      "        print ('Current k: %g, previous k: %g, search range [%g, %g], convergence when change in k < %g'\n",
      "               % (k_fit, k_fit_prev, k_vals[0], k_vals[-1], init_k * convf))\n",
      "    \n",
      "        a_best = -1\n",
      "        s2_best = -1\n",
      "        avars_best = -1\n",
      "        \n",
      "        # Loop of least squares fits\n",
      "        for k in k_vals:\n",
      "            a, s2, avars = lsq.sin_cos_lsq(x, v, k)\n",
      "            if s2_best == -1 or s2 < s2_best:\n",
      "                a_best, s2_best, avars_best = a, s2, avars\n",
      "                k_fit = k\n",
      "        \n",
      "        # Refine search domain by factor ref\n",
      "        r *= ref\n",
      "    \n",
      "    return k_fit, a_best, s2_best, avars_best"
     ],
     "language": "python",
     "metadata": {},
     "outputs": [],
     "prompt_number": 5
    },
    {
     "cell_type": "markdown",
     "metadata": {},
     "source": [
      "Point source fitting\n",
      "--------------------\n",
      "\n",
      "Fit the equation\n",
      "\\begin{equation}\n",
      "  F = A \\cos(k \\sin(HA)) + B \\sin(k \\sin(HA))\n",
      "\\end{equation}\n",
      "\n",
      "We fit $k = 2\\pi B_y / \\lambda \\cos(\\delta)$.  As HA has units of radians in our calculation, $k/(2\\pi)$ has units cycles/radian.  But, $2\\pi$ radians = $360$ degrees = $24$ hours = $86400$ seconds.  Thus, to get usable units, we have to take $k/(2\\pi) * (2\\pi) / (86400) = k/86400$.\n",
      "\n",
      "1. Perform iterative, brute force least squares fit until convergence is reached ($\\Delta k < 10^{-7} \\times 2000$)\n",
      "2. Make plots and calculate various parameters, from the best fit values.  How do we estimate uncertainty in $k$ ?!?!?!\n",
      "3. Make plots of residuals as a function of k (i.e., illustration of brute force fitting)\n",
      "\n",
      "Note -- run the following cell only once!  If rerun, you'll reinitialize the PyEphem objects and mess up dictionary keys."
     ]
    },
    {
     "cell_type": "code",
     "collapsed": false,
     "input": [
      "targets = [catalog.M17(), catalog.orion(), catalog.virgoA()]\n",
      "obs_day = '2014/04/07 00:00'  # PDT\n",
      "obs.date = ephem.Date(ephem.Date(obs_day) + 7*ephem.hour)  # GMT"
     ],
     "language": "python",
     "metadata": {},
     "outputs": [],
     "prompt_number": 6
    },
    {
     "cell_type": "code",
     "collapsed": false,
     "input": [
      "baseline = 10.  # m\n",
      "interf_freq = 10.7e9  # Hz, probably ~5% error here...\n",
      "c = 299792458.  # m/s\n",
      "wavelength = c/interf_freq\n",
      "kmax = 2*np.pi*baseline/wavelength\n",
      "\n",
      "print 'Max possible cable delay is %g seconds' % (1./interf_freq)"
     ],
     "language": "python",
     "metadata": {},
     "outputs": [
      {
       "output_type": "stream",
       "stream": "stdout",
       "text": [
        "Max possible cable delay is 9.34579e-11 seconds\n"
       ]
      }
     ],
     "prompt_number": 7
    },
    {
     "cell_type": "markdown",
     "metadata": {},
     "source": [
      "First, iterative fitting to get good values of $k$"
     ]
    },
    {
     "cell_type": "code",
     "collapsed": false,
     "input": [
      "ks = {}\n",
      "s2s = {}\n",
      "coeffs = {}\n",
      "vfits = {}\n",
      "\n",
      "for src in targets:\n",
      "    src.compute(obs)\n",
      "    print src.name\n",
      "    data = np.load(fnames[src.name])\n",
      "    lst = data['lst']\n",
      "    v = data['volts']\n",
      "    \n",
      "    # Compute source ra and dec, then get sin(ha) for fitting\n",
      "    ha = lst*(2.*np.pi/24) - src.ra  # Hour angle in radians\n",
      "    x = np.sin(ha)\n",
      "    \n",
      "    # Perform iterative brute force least squares\n",
      "    init_k = 2000\n",
      "    init_range = 1000 # Search range [1000, 3000]\n",
      "    ks[src], coeffs[src], s2s[src], coeffvars = sin_cos_iter_lsq(x, v, init_k, init_range)\n",
      "    vfits[src] = coeffs[src][0] * np.cos(ks[src] * x) + coeffs[src][1] * np.sin(ks[src] * x)\n",
      "    \n",
      "    print ks[src], coeffs[src], s2s[src], np.sqrt(coeffvars), '\\n'"
     ],
     "language": "python",
     "metadata": {},
     "outputs": [
      {
       "output_type": "stream",
       "stream": "stdout",
       "text": [
        "M17\n",
        "Current k: 2000, previous k: 2000, search range [1000, 3000], convergence when change in k < 0.0002\n",
        "Current k: 2143.14, previous k: 2143.14, search range [1643.14, 2643.14], convergence when change in k < 0.0002"
       ]
      },
      {
       "output_type": "stream",
       "stream": "stdout",
       "text": [
        "\n",
        "Current k: 2142.64, previous k: 2142.64, search range [1892.64, 2392.64], convergence when change in k < 0.0002"
       ]
      },
      {
       "output_type": "stream",
       "stream": "stdout",
       "text": [
        "\n",
        "Current k: 2142.39, previous k: 2142.39, search range [2017.39, 2267.39], convergence when change in k < 0.0002"
       ]
      },
      {
       "output_type": "stream",
       "stream": "stdout",
       "text": [
        "\n",
        "Current k: 2142.52, previous k: 2142.52, search range [2080.02, 2205.02], convergence when change in k < 0.0002"
       ]
      },
      {
       "output_type": "stream",
       "stream": "stdout",
       "text": [
        "\n",
        "Current k: 2142.45, previous k: 2142.45, search range [2111.2, 2173.7], convergence when change in k < 0.0002"
       ]
      },
      {
       "output_type": "stream",
       "stream": "stdout",
       "text": [
        "\n",
        "Current k: 2142.42, previous k: 2142.42, search range [2126.8, 2158.05], convergence when change in k < 0.0002"
       ]
      },
      {
       "output_type": "stream",
       "stream": "stdout",
       "text": [
        "\n",
        "Current k: 2142.41, previous k: 2142.41, search range [2134.6, 2150.22], convergence when change in k < 0.0002"
       ]
      },
      {
       "output_type": "stream",
       "stream": "stdout",
       "text": [
        "\n",
        "Current k: 2142.42, previous k: 2142.42, search range [2138.51, 2146.32], convergence when change in k < 0.0002"
       ]
      },
      {
       "output_type": "stream",
       "stream": "stdout",
       "text": [
        "\n",
        "Current k: 2142.41, previous k: 2142.41, search range [2140.46, 2144.37], convergence when change in k < 0.0002"
       ]
      },
      {
       "output_type": "stream",
       "stream": "stdout",
       "text": [
        "\n",
        "Current k: 2142.41, previous k: 2142.41, search range [2141.44, 2143.39], convergence when change in k < 0.0002"
       ]
      },
      {
       "output_type": "stream",
       "stream": "stdout",
       "text": [
        "\n",
        "Current k: 2142.41, previous k: 2142.41, search range [2141.92, 2142.9], convergence when change in k < 0.0002"
       ]
      },
      {
       "output_type": "stream",
       "stream": "stdout",
       "text": [
        "\n",
        "Current k: 2142.41, previous k: 2142.41, search range [2142.17, 2142.66], convergence when change in k < 0.0002"
       ]
      },
      {
       "output_type": "stream",
       "stream": "stdout",
       "text": [
        "\n",
        "Current k: 2142.41, previous k: 2142.41, search range [2142.29, 2142.54], convergence when change in k < 0.0002"
       ]
      },
      {
       "output_type": "stream",
       "stream": "stdout",
       "text": [
        "\n",
        "2142.41328731"
       ]
      },
      {
       "output_type": "stream",
       "stream": "stdout",
       "text": [
        " [ -4.40485338e-06  -5.15264867e-06] 8.21833693677e-09 [  8.17179033e-07   8.16809124e-07] \n",
        "\n",
        "Orion\n",
        "Current k: 2000, previous k: 2000, search range [1000, 3000], convergence when change in k < 0.0002\n",
        "Current k: 2227.23, previous k: 2227.23, search range [1727.23, 2727.23], convergence when change in k < 0.0002"
       ]
      },
      {
       "output_type": "stream",
       "stream": "stdout",
       "text": [
        "\n",
        "Current k: 2234.73, previous k: 2234.73, search range [1984.73, 2484.73], convergence when change in k < 0.0002"
       ]
      },
      {
       "output_type": "stream",
       "stream": "stdout",
       "text": [
        "\n",
        "Current k: 2227.48, previous k: 2227.48, search range [2102.48, 2352.48], convergence when change in k < 0.0002"
       ]
      },
      {
       "output_type": "stream",
       "stream": "stdout",
       "text": [
        "\n",
        "Current k: 2227.35, previous k: 2227.35, search range [2164.85, 2289.85], convergence when change in k < 0.0002"
       ]
      },
      {
       "output_type": "stream",
       "stream": "stdout",
       "text": [
        "\n",
        "Current k: 2227.41, previous k: 2227.41, search range [2196.16, 2258.66], convergence when change in k < 0.0002"
       ]
      },
      {
       "output_type": "stream",
       "stream": "stdout",
       "text": [
        "\n",
        "Current k: 2227.45, previous k: 2227.45, search range [2211.82, 2243.07], convergence when change in k < 0.0002"
       ]
      },
      {
       "output_type": "stream",
       "stream": "stdout",
       "text": [
        "\n",
        "Current k: 2227.46, previous k: 2227.46, search range [2219.65, 2235.27], convergence when change in k < 0.0002"
       ]
      },
      {
       "output_type": "stream",
       "stream": "stdout",
       "text": [
        "\n",
        "Current k: 2227.45, previous k: 2227.45, search range [2223.55, 2231.36], convergence when change in k < 0.0002"
       ]
      },
      {
       "output_type": "stream",
       "stream": "stdout",
       "text": [
        "\n",
        "Current k: 2227.45, previous k: 2227.45, search range [2225.5, 2229.4], convergence when change in k < 0.0002"
       ]
      },
      {
       "output_type": "stream",
       "stream": "stdout",
       "text": [
        "\n",
        "Current k: 2227.45, previous k: 2227.45, search range [2226.48, 2228.43], convergence when change in k < 0.0002"
       ]
      },
      {
       "output_type": "stream",
       "stream": "stdout",
       "text": [
        "\n",
        "Current k: 2227.45, previous k: 2227.45, search range [2226.96, 2227.94], convergence when change in k < 0.0002"
       ]
      },
      {
       "output_type": "stream",
       "stream": "stdout",
       "text": [
        "\n",
        "Current k: 2227.45, previous k: 2227.45, search range [2227.21, 2227.7], convergence when change in k < 0.0002"
       ]
      },
      {
       "output_type": "stream",
       "stream": "stdout",
       "text": [
        "\n",
        "Current k: 2227.45, previous k: 2227.45, search range [2227.33, 2227.57], convergence when change in k < 0.0002"
       ]
      },
      {
       "output_type": "stream",
       "stream": "stdout",
       "text": [
        "\n",
        "2227.45193924"
       ]
      },
      {
       "output_type": "stream",
       "stream": "stdout",
       "text": [
        " [ -1.58150045e-06   5.85990589e-06] 6.62710904942e-09 [  6.13470492e-07   6.20545734e-07] \n",
        "\n",
        "Virgo A\n",
        "Current k: 2000, previous k: 2000, search range [1000, 3000], convergence when change in k < 0.0002\n",
        "Current k: 2077.08, previous k: 2077.08, search range [1577.08, 2577.08], convergence when change in k < 0.0002"
       ]
      },
      {
       "output_type": "stream",
       "stream": "stdout",
       "text": [
        "\n",
        "Current k: 2077.58, previous k: 2077.58, search range [1827.58, 2327.58], convergence when change in k < 0.0002"
       ]
      },
      {
       "output_type": "stream",
       "stream": "stdout",
       "text": [
        "\n",
        "Current k: 2077.33, previous k: 2077.33, search range [1952.33, 2202.33], convergence when change in k < 0.0002"
       ]
      },
      {
       "output_type": "stream",
       "stream": "stdout",
       "text": [
        "\n",
        "Current k: 2077.2, previous k: 2077.2, search range [2014.7, 2139.7], convergence when change in k < 0.0002"
       ]
      },
      {
       "output_type": "stream",
       "stream": "stdout",
       "text": [
        "\n",
        "Current k: 2077.14, previous k: 2077.14, search range [2045.89, 2108.39], convergence when change in k < 0.0002"
       ]
      },
      {
       "output_type": "stream",
       "stream": "stdout",
       "text": [
        "\n",
        "Current k: 2077.17, previous k: 2077.17, search range [2061.55, 2092.8], convergence when change in k < 0.0002"
       ]
      },
      {
       "output_type": "stream",
       "stream": "stdout",
       "text": [
        "\n",
        "Current k: 2077.16, previous k: 2077.16, search range [2069.34, 2084.97], convergence when change in k < 0.0002"
       ]
      },
      {
       "output_type": "stream",
       "stream": "stdout",
       "text": [
        "\n",
        "Current k: 2077.16, previous k: 2077.16, search range [2073.26, 2081.07], convergence when change in k < 0.0002"
       ]
      },
      {
       "output_type": "stream",
       "stream": "stdout",
       "text": [
        "\n",
        "Current k: 2077.17, previous k: 2077.17, search range [2075.21, 2079.12], convergence when change in k < 0.0002"
       ]
      },
      {
       "output_type": "stream",
       "stream": "stdout",
       "text": [
        "\n",
        "Current k: 2077.17, previous k: 2077.17, search range [2076.19, 2078.15], convergence when change in k < 0.0002"
       ]
      },
      {
       "output_type": "stream",
       "stream": "stdout",
       "text": [
        "\n",
        "Current k: 2077.17, previous k: 2077.17, search range [2076.68, 2077.66], convergence when change in k < 0.0002"
       ]
      },
      {
       "output_type": "stream",
       "stream": "stdout",
       "text": [
        "\n",
        "Current k: 2077.17, previous k: 2077.17, search range [2076.92, 2077.41], convergence when change in k < 0.0002"
       ]
      },
      {
       "output_type": "stream",
       "stream": "stdout",
       "text": [
        "\n",
        "Current k: 2077.17, previous k: 2077.17, search range [2077.05, 2077.29], convergence when change in k < 0.0002"
       ]
      },
      {
       "output_type": "stream",
       "stream": "stdout",
       "text": [
        "\n",
        "2077.16786611"
       ]
      },
      {
       "output_type": "stream",
       "stream": "stdout",
       "text": [
        " [ -3.69706375e-06  -1.29916811e-06] 6.27635802762e-09 [  5.99196840e-07   5.99457452e-07] \n",
        "\n"
       ]
      }
     ],
     "prompt_number": 8
    },
    {
     "cell_type": "markdown",
     "metadata": {},
     "source": [
      "Next, generate plots of least squares fits and calculate quantities of interest.  Estimate uncertainties in said quantities?\n",
      "\n",
      "For declination uncertainty:\n",
      "$$\n",
      "    \\Delta \\delta = \\frac{1}{\\sin(\\delta)} \\Delta(\\cos\\delta)\n",
      "    = \\frac{1}{\\sin(\\delta)} \\cos(\\delta) \\left[ \\left(\\frac{\\Delta\\lambda}{\\lambda}\\right)^2\n",
      "                                  + \\left(\\frac{\\Delta B_y}{B_y}\\right)^2 \\right]^{1/2}\n",
      "    = \\frac{1}{\\tan(\\delta)} \\left[ \\left(\\frac{\\Delta\\nu}{\\nu}\\right)^2\n",
      "                                  + \\left(\\frac{\\Delta B_y}{B_y}\\right)^2 \\right]^{1/2}\n",
      "    = \\frac{1}{\\tan(\\delta)} \\sqrt{ (0.1/10.7)^2 + (0.1/10)^2 }\n",
      "    = \\frac{0.0137}{\\tan(\\delta)}\n",
      "$$\n",
      "For baseline uncertainty -- I neglect the uncertainty in PyEphem's computed declination!  Expecting it to be negligible.\n",
      "$$\n",
      "    \\Delta B_y = B_y \\frac{\\Delta\\lambda}{\\lambda} = B_y \\frac{\\Delta\\nu}{\\nu} = 0.0093 B_y\n",
      "$$"
     ]
    },
    {
     "cell_type": "code",
     "collapsed": false,
     "input": [
      "for src in targets:\n",
      "    data = np.load(fnames[src.name])\n",
      "    t = 24*60*(data['jd'] - data['jd'][0])  # Minutes, JD\n",
      "    v = data['volts']\n",
      "    \n",
      "    k = ks[src]\n",
      "    a, b = coeffs[src]\n",
      "    v_fit = vfits[src]\n",
      "    \n",
      "    cable_delay = np.arctan2(-b, a) / (2*np.pi*interf_freq)\n",
      "    dec_fit = np.arccos(k / kmax)\n",
      "    baseline_fit = k*wavelength / (2*np.pi*np.cos(src.dec))\n",
      "    \n",
      "    # Print useful parameters\n",
      "    print src.name\n",
      "    print 'Best fit k: %g' % k\n",
      "    print 'Cable delay (s): %g' % cable_delay\n",
      "    print 'Calculated dec (deg): +/- %g, uncertainty %g' % (rad2deg(dec_fit), rad2deg(0.0137/np.tan(dec_fit)))\n",
      "    print 'Actual dec (deg): %g' % rad2deg(src.dec)\n",
      "    print 'Calculated baseline (B_y) for known dec: %g, uncertainty %g' % (baseline_fit, 0.0093*baseline_fit)\n",
      "    \n",
      "    # Plot signal vs. fit\n",
      "    plt.figure(figsize=(4,2))\n",
      "    plt.plot(t[:300], v[:300], '.-b', alpha=0.5, rasterized=True, markersize=4)\n",
      "    plt.plot(t[:300], v_fit[:300], '-r', linewidth=2)\n",
      "    fplot('Time (minutes, JD)', 'Voltage (V)')\n",
      "    ylimmax = max(np.abs(plt.axis()[2:3]))\n",
      "    plt.ylim([-ylimmax, ylimmax])\n",
      "    # plt.ticklabel_format(useOffset=False, axis='x')\n",
      "    plt.tight_layout()\n",
      "    plt.savefig('../plots_fitting/' + src.name + '_dec_fits_signal.pdf', dpi=400)\n",
      "    plt.show()"
     ],
     "language": "python",
     "metadata": {},
     "outputs": [
      {
       "output_type": "stream",
       "stream": "stdout",
       "text": [
        "M17\n",
        "Best fit k: 2142.41\n",
        "Cable delay (s): 3.38853e-11\n",
        "Calculated dec (deg): +/- 17.1871, uncertainty 2.5378\n",
        "Actual dec (deg): -16.1679\n",
        "Calculated baseline (B_y) for known dec: 9.94685, uncertainty 0.0925057\n"
       ]
      },
      {
       "metadata": {},
       "output_type": "display_data",
       "png": "[encoded data removed]",
       "text": [
        "<matplotlib.figure.Figure at 0x1069a6990>"
       ]
      },
      {
       "output_type": "stream",
       "stream": "stdout",
       "text": [
        "Orion\n",
        "Best fit k: 2227.45\n",
        "Cable delay (s): -2.72854e-11\n",
        "Calculated dec (deg): +/- 6.6532, uncertainty 6.72941\n",
        "Actual dec (deg): -5.38734\n",
        "Calculated baseline (B_y) for known dec: 9.97673, uncertainty 0.0927836\n"
       ]
      },
      {
       "metadata": {},
       "output_type": "display_data",
       "png": "[encoded data removed]",
       "text": [
        "<matplotlib.figure.Figure at 0x106a7de50>"
       ]
      },
      {
       "output_type": "stream",
       "stream": "stdout",
       "text": [
        "Virgo A\n",
        "Best fit k: 2077.17\n",
        "Cable delay (s): 4.17026e-11\n",
        "Calculated dec (deg): +/- 22.1423, uncertainty 1.92902\n",
        "Actual dec (deg): 12.3099\n",
        "Calculated baseline (B_y) for known dec: 9.48048, uncertainty 0.0881684\n"
       ]
      },
      {
       "metadata": {},
       "output_type": "display_data",
       "png": "[encoded data removed]",
       "text": [
        "<matplotlib.figure.Figure at 0x106a21dd0>"
       ]
      }
     ],
     "prompt_number": 9
    },
    {
     "cell_type": "markdown",
     "metadata": {},
     "source": [
      "Also, make some plots to actually illustrate the process of brute-force least squares fitting -- although these plots are really throwaways, the calculations aren't actually used to obtain $k$.  Kind of time-consuming to do this, but it's okay."
     ]
    },
    {
     "cell_type": "code",
     "collapsed": false,
     "input": [
      "for src in targets:\n",
      "    src.compute(obs)\n",
      "    data = np.load(fnames[src.name])\n",
      "    lst = data['lst']\n",
      "    v = data['volts']\n",
      "    k = ks[src]\n",
      "    \n",
      "    # Compute source ra and dec, then get sin(ha) for fitting\n",
      "    ha = lst*(2.*np.pi/24) - src.ra  # Hour angle in radians\n",
      "    x = np.sin(ha)\n",
      "    \n",
      "    # Range of k values to traverse\n",
      "    # Uncomment desired range to plot, change filename output appropriately\n",
      "    kvals = np.power(10, np.linspace(2, 4, 10000))  # Log sampling from k=100 to k=10000\n",
      "    # kvals = np.linspace(k - 100, k + 100, 2000)  # Close in sampling\n",
      "    sum_sq_res = np.zeros_like(kvals, dtype='float')\n",
      "    avals = np.zeros_like(kvals, dtype='float')\n",
      "    bvals = np.zeros_like(kvals, dtype='float')\n",
      "    \n",
      "    # Loop of least squares fits\n",
      "    for i in xrange(kvals.size):\n",
      "        a, s2, a_vars = lsq.sin_cos_lsq(x, v, kvals[i])\n",
      "        \n",
      "        avals[i], bvals[i] = a\n",
      "        sum_sq_res[i] = s2\n",
      "    \n",
      "    # Plot sum_sq_res of fit process\n",
      "    print src.name\n",
      "    print 'Min k: %g' % k\n",
      "    plt.figure(figsize=(3,2))\n",
      "    plt.plot(kvals, sum_sq_res, '-ok', alpha=0.5, markersize=2, rasterized=True)\n",
      "    plt.scatter(k, s2s[src], 80, facecolors='none', edgecolors='r')\n",
      "    fplot('Adopted value of $2\\pi (B_y / \\lambda) \\cos(\\delta)$ (-)', 'Scaled ($\\mathrm{V}^2$)')\n",
      "    plt.ticklabel_format(useOffset=False, axis='y')\n",
      "    plt.tight_layout()\n",
      "    # plt.savefig('../plots_fitting/' + src.name + '_dec_fits_lsq.pdf', dpi=400)\n",
      "    plt.savefig('../plots_fitting/' + src.name + '_dec_fits_lsq_logk.pdf', dpi=400)\n",
      "    plt.show()"
     ],
     "language": "python",
     "metadata": {},
     "outputs": [
      {
       "output_type": "stream",
       "stream": "stdout",
       "text": [
        "M17\n",
        "Min k: 2142.41\n"
       ]
      },
      {
       "metadata": {},
       "output_type": "display_data",
       "png": "[encoded data removed]",
       "text": [
        "<matplotlib.figure.Figure at 0x106787990>"
       ]
      },
      {
       "output_type": "stream",
       "stream": "stdout",
       "text": [
        "Orion\n",
        "Min k: 2227.45\n"
       ]
      },
      {
       "metadata": {},
       "output_type": "display_data",
       "png": "[encoded data removed]",
       "text": [
        "<matplotlib.figure.Figure at 0x1067870d0>"
       ]
      },
      {
       "output_type": "stream",
       "stream": "stdout",
       "text": [
        "Virgo A\n",
        "Min k: 2077.17\n"
       ]
      },
      {
       "metadata": {},
       "output_type": "display_data",
       "png": "[encoded data removed]",
       "text": [
        "<matplotlib.figure.Figure at 0x106804790>"
       ]
      }
     ],
     "prompt_number": 31
    }
   ],
   "metadata": {}
  }
 ]
}